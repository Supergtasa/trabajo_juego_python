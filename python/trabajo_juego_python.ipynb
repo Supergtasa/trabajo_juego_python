{
 "cells": [
  {
   "cell_type": "markdown",
   "metadata": {},
   "source": [
    "# Trabajo con Nota para el Proximo Jueves 27 de Octubre del 2022\n",
    "# Desarrollando un mini juego.-\n",
    "La idea principal del juego es descubrir un número generado aleatoriamente.\n",
    "para esto, se debe:\n",
    "1) Determinando la cantidad de oportunidades que tengo para resolver el pusle y los valores entre los que se generarán los números aleatorios.\n",
    "2) Por cada iteración pedir un número\n",
    "3) Entregar pistas como: El valor ingresado es Mayor o Menor al número ingresado\n",
    "4) Finalmente entregar un mensaje si el problema se resolvio con exito o si perdio\n",
    "\n",
    "El juego termina cuando se terminan las oportunidades o al encontrar el valor que se genero en un inicio.\n",
    "\n",
    "Se evaluará el funcionamiento del código y los comentarios que agrege para entender lo que códifico\n",
    "\n",
    "Este se debe entregar en un repositorio de nombre trabajo_juego_python y la direccion de este debe ser enviado al correo amaru.fernandezd@utem.cl\n",
    "\n",
    "Trabajos muy parecidos serán evaludos con nota 1.0"
   ]
  },
  {
   "cell_type": "code",
   "execution_count": 1,
   "metadata": {},
   "outputs": [
    {
     "name": "stdout",
     "output_type": "stream",
     "text": [
      "Welcome to the number guessing game!\n",
      "You have 5 chances to guess a number between 1 and 10.\n"
     ]
    }
   ],
   "source": [
    "import random\n",
    "\n",
    "# Establece el número de oportunidades y el rango para el número aleatorio\n",
    "oportunidades = 5\n",
    "valor_mínimo = 1\n",
    "valor_máximo = 10\n",
    "\n",
    "# Genera un número aleatorio entre valor_mínimo y valor_máximo (ambos inclusive)\n",
    "número_aleatorio = random.randint(valor_mínimo, valor_máximo)\n",
    "\n",
    "# Imprime un mensaje de bienvenida y las reglas del juego\n",
    "print(\"¡Bienvenido al juego de adivinar números!\")\n",
    "print(f\"Tienes {oportunidades} oportunidades para adivinar un número entre {valor_mínimo} y {valor_máximo}.\")\n",
    "\n",
    "# Bucle para el número de oportunidades\n",
    "for i in range(oportunidades):\n",
    "    # Pide al usuario que adivine\n",
    "    guess = int(input(\"Escriba su respuesta: \"))\n",
    "\n",
    "    # Comprueba si la suposición es correcta\n",
    "    if guess == número_aleatorio:\n",
    "        # Si la suposición es correcta, imprime un mensaje y sale del bucle\n",
    "        print(\"¡Enhorabuena! Has adivinado el número correcto.\")\n",
    "        break\n",
    "    else:\n",
    "        # Si la suposición es incorrecta, imprime una pista y continúa el bucle\n",
    "        if guess < número_aleatorio:\n",
    "            print(\"Tu suposición es demasiado baja.\")\n",
    "        else:\n",
    "            print(\"Tu suposición es demasiado alta.\")\n",
    "\n",
    "# Si el bucle se completa, imprime un mensaje de pérdida\n",
    "if guess != número_aleatorio:\n",
    "    print(f\"Lo siento, no has adivinado el número correcto. El número correcto era {número_aleatorio}.\")"
   ]
  },
  {
   "cell_type": "code",
   "execution_count": null,
   "metadata": {},
   "outputs": [
    {
     "name": "stdout",
     "output_type": "stream",
     "text": [
      "I'm thinking of a number between 1 and 10. Can you guess it?\n"
     ]
    }
   ],
   "source": [
    "import random\n",
    "\n",
    "# Set the number of chances to guess the random number\n",
    "chances = 5\n",
    "\n",
    "# Generate a random number between 1 and 10 (inclusive)\n",
    "random_number = random.randint(1, 10)\n",
    "\n",
    "# Print a message to let the user know the range of numbers to guess from\n",
    "print(\"I'm thinking of a number between 1 and 10. Can you guess it?\")\n",
    "\n",
    "# Start a loop to give the user the specified number of chances\n",
    "for i in range(chances):\n",
    "  # Ask the user for their guess\n",
    "  guess = int(input(\"Enter your guess: \"))\n",
    "  \n",
    "  # Check if the guess is correct\n",
    "  if guess == random_number:\n",
    "    # If the guess is correct, print a success message and end the game\n",
    "    print(\"Congratulations! You guessed the right number.\")\n",
    "    break\n",
    "  else:\n",
    "    # If the guess is incorrect, print a hint to let the user know if their guess was too high or too low\n",
    "    if guess < random_number:\n",
    "      print(\"Your guess is too low. Try again.\")\n",
    "    else:\n",
    "      print(\"Your guess is too high. Try again.\")\n",
    "\n",
    "# If the loop ends and the user hasn't guessed the right number, print a failure message\n",
    "if guess != random_number:\n",
    "  print(\"Sorry, you ran out of chances. The correct number was {}.\".format(random_number))"
   ]
  }
 ],
 "metadata": {
  "kernelspec": {
   "display_name": "Python 3.10.8 64-bit",
   "language": "python",
   "name": "python3"
  },
  "language_info": {
   "codemirror_mode": {
    "name": "ipython",
    "version": 3
   },
   "file_extension": ".py",
   "mimetype": "text/x-python",
   "name": "python",
   "nbconvert_exporter": "python",
   "pygments_lexer": "ipython3",
   "version": "3.10.8"
  },
  "orig_nbformat": 4,
  "vscode": {
   "interpreter": {
    "hash": "f92a6894139e907353b078f0e36ed88e595e1902f480a32e21c0a4f059f9c394"
   }
  }
 },
 "nbformat": 4,
 "nbformat_minor": 2
}
