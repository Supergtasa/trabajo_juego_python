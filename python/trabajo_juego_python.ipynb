{
 "cells": [
  {
   "cell_type": "markdown",
   "metadata": {},
   "source": [
    "# Trabajo con Nota para el Proximo Jueves 27 de Octubre del 2022\n",
    "# Desarrollando un mini juego.-\n",
    "La idea principal del juego es descubrir un número generado aleatoriamente.\n",
    "para esto, se debe:\n",
    "1) Determinando la cantidad de oportunidades que tengo para resolver el pusle y los valores entre los que se generarán los números aleatorios.\n",
    "2) Por cada iteración pedir un número\n",
    "3) Entregar pistas como: El valor ingresado es Mayor o Menor al número ingresado\n",
    "4) Finalmente entregar un mensaje si el problema se resolvio con exito o si perdio\n",
    "\n",
    "El juego termina cuando se terminan las oportunidades o al encontrar el valor que se genero en un inicio.\n",
    "\n",
    "Se evaluará el funcionamiento del código y los comentarios que agrege para entender lo que códifico\n",
    "\n",
    "Este se debe entregar en un repositorio de nombre trabajo_juego_python y la direccion de este debe ser enviado al correo amaru.fernandezd@utem.cl\n",
    "\n",
    "Trabajos muy parecidos serán evaludos con nota 1.0"
   ]
  },
  {
   "cell_type": "code",
   "execution_count": null,
   "metadata": {},
   "outputs": [],
   "source": []
  }
 ],
 "metadata": {
  "kernelspec": {
   "display_name": "Python 3.10.8 64-bit",
   "language": "python",
   "name": "python3"
  },
  "language_info": {
   "name": "python",
   "version": "3.10.8"
  },
  "orig_nbformat": 4,
  "vscode": {
   "interpreter": {
    "hash": "f92a6894139e907353b078f0e36ed88e595e1902f480a32e21c0a4f059f9c394"
   }
  }
 },
 "nbformat": 4,
 "nbformat_minor": 2
}
